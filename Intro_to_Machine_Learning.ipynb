{
  "nbformat": 4,
  "nbformat_minor": 0,
  "metadata": {
    "colab": {
      "provenance": [],
      "authorship_tag": "ABX9TyNLqjCAslVFI9wN0tYvxETw",
      "include_colab_link": true
    },
    "kernelspec": {
      "name": "python3",
      "display_name": "Python 3"
    },
    "language_info": {
      "name": "python"
    }
  },
  "cells": [
    {
      "cell_type": "markdown",
      "metadata": {
        "id": "view-in-github",
        "colab_type": "text"
      },
      "source": [
        "<a href=\"https://colab.research.google.com/github/kelvin-kahuho/Machine-learning-crash-course/blob/main/Intro_to_Machine_Learning.ipynb\" target=\"_parent\"><img src=\"https://colab.research.google.com/assets/colab-badge.svg\" alt=\"Open In Colab\"/></a>"
      ]
    },
    {
      "cell_type": "markdown",
      "source": [
        "**CREATE**"
      ],
      "metadata": {
        "id": "W8ASOYy8h435"
      }
    },
    {
      "cell_type": "code",
      "execution_count": 2,
      "metadata": {
        "id": "ZipSNBTecP2S"
      },
      "outputs": [],
      "source": [
        "import numpy as np\n",
        "\n",
        "a = np.array([1,2,3,4,5,6])\n",
        "zeroes = np.zeros((4,4))\n",
        "ones = np.ones((2,3))\n",
        "sevens = np.full((2,2), 7)\n",
        "range = np.arange(1,100,2).reshape(5,10)\n",
        "\n"
      ]
    },
    {
      "cell_type": "code",
      "source": [
        "print(a)\n",
        "print(zeroes)\n",
        "print(ones)\n",
        "print(sevens)\n",
        "print(range)"
      ],
      "metadata": {
        "colab": {
          "base_uri": "https://localhost:8080/"
        },
        "id": "Son6x1rmk70J",
        "outputId": "c034954e-5393-4e35-d71e-afd051f65516"
      },
      "execution_count": 3,
      "outputs": [
        {
          "output_type": "stream",
          "name": "stdout",
          "text": [
            "[1 2 3 4 5 6]\n",
            "[[0. 0. 0. 0.]\n",
            " [0. 0. 0. 0.]\n",
            " [0. 0. 0. 0.]\n",
            " [0. 0. 0. 0.]]\n",
            "[[1. 1. 1.]\n",
            " [1. 1. 1.]]\n",
            "[[7 7]\n",
            " [7 7]]\n",
            "[[ 1  3  5  7  9 11 13 15 17 19]\n",
            " [21 23 25 27 29 31 33 35 37 39]\n",
            " [41 43 45 47 49 51 53 55 57 59]\n",
            " [61 63 65 67 69 71 73 75 77 79]\n",
            " [81 83 85 87 89 91 93 95 97 99]]\n"
          ]
        }
      ]
    },
    {
      "cell_type": "markdown",
      "source": [
        "**READ**"
      ],
      "metadata": {
        "id": "s9NxpgY3nE61"
      }
    },
    {
      "cell_type": "code",
      "source": [
        "print(a.dtype)\n",
        "print(a.size)\n",
        "print(a.shape)"
      ],
      "metadata": {
        "colab": {
          "base_uri": "https://localhost:8080/"
        },
        "id": "0n-D5oyunMwO",
        "outputId": "d0f79248-5089-4611-9ce7-e77ef07cadca"
      },
      "execution_count": 4,
      "outputs": [
        {
          "output_type": "stream",
          "name": "stdout",
          "text": [
            "int64\n",
            "6\n",
            "(6,)\n"
          ]
        }
      ]
    },
    {
      "cell_type": "code",
      "source": [
        "#Slicing\n",
        "\n",
        "data = np.random.rand(30).reshape(6,5)\n",
        "index_zero = data[0]\n",
        "reverse = data[-1]\n",
        "single_value = data[0][0]\n"
      ],
      "metadata": {
        "id": "EGULMBCsnqwt"
      },
      "execution_count": 8,
      "outputs": []
    },
    {
      "cell_type": "code",
      "source": [
        "print(data)\n",
        "print(\"...\")\n",
        "print(index_zero)\n",
        "print(\"...\")\n",
        "print(reverse)\n",
        "print(\"...\")\n",
        "print(single_value)"
      ],
      "metadata": {
        "id": "2Bj6F34Uoz1H",
        "colab": {
          "base_uri": "https://localhost:8080/"
        },
        "outputId": "338440af-59d4-496b-9c82-26f5fe06bbc7"
      },
      "execution_count": 9,
      "outputs": [
        {
          "output_type": "stream",
          "name": "stdout",
          "text": [
            "[[0.24069093 0.02227507 0.45599557 0.72177484 0.58566985]\n",
            " [0.37012572 0.13386553 0.1759588  0.95083232 0.27283913]\n",
            " [0.72595946 0.53537301 0.73964621 0.04589453 0.97775656]\n",
            " [0.04119857 0.12818324 0.49423787 0.05325589 0.46033913]\n",
            " [0.29553262 0.64110383 0.02888152 0.13070295 0.61267285]\n",
            " [0.19031275 0.77934011 0.16622724 0.30945186 0.16712123]]\n",
            "...\n",
            "[0.24069093 0.02227507 0.45599557 0.72177484 0.58566985]\n",
            "...\n",
            "[0.19031275 0.77934011 0.16622724 0.30945186 0.16712123]\n",
            "...\n",
            "0.24069093000555797\n"
          ]
        }
      ]
    },
    {
      "cell_type": "markdown",
      "source": [
        "**UPDATE**"
      ],
      "metadata": {
        "id": "PXWoyRXSGntC"
      }
    },
    {
      "cell_type": "code",
      "source": [
        "a = np.array([1, 2, 3])\n",
        "b = np.array([4, 5, 6])\n",
        "\n",
        "add = np.add(a, b)\n",
        "sub = np.subtract(a, b)\n",
        "div = np.divide(a, b)\n",
        "multi = np.multiply(a, b)\n",
        "dot = np.dot(a, b)\n",
        "\n"
      ],
      "metadata": {
        "id": "zg626K2M_2k0"
      },
      "execution_count": 13,
      "outputs": []
    },
    {
      "cell_type": "code",
      "source": [
        "print(add)\n",
        "print(\"...\")\n",
        "print(sub)\n",
        "print(\"...\")\n",
        "print(div)\n",
        "print(\"...\")\n",
        "print(multi)\n",
        "print(\"...\")\n",
        "print(dot)"
      ],
      "metadata": {
        "colab": {
          "base_uri": "https://localhost:8080/"
        },
        "id": "ss8HIi76DB27",
        "outputId": "41e1a3b1-4791-4dd9-a69a-cb9d64ba1124"
      },
      "execution_count": 14,
      "outputs": [
        {
          "output_type": "stream",
          "name": "stdout",
          "text": [
            "[5 7 9]\n",
            "...\n",
            "[-3 -3 -3]\n",
            "...\n",
            "[0.25 0.4  0.5 ]\n",
            "...\n",
            "[ 4 10 18]\n",
            "...\n",
            "32\n"
          ]
        }
      ]
    },
    {
      "cell_type": "code",
      "source": [
        "#Statistical Functions\n",
        "\n",
        "print(np.sqrt(25))\n",
        "print(\"...\")\n",
        "print(np.abs(-2))\n",
        "print(\"...\")\n",
        "print(np.power(2, 7))\n",
        "print(\"...\")\n",
        "print(np.log(25))\n",
        "print(\"...\")\n",
        "print(np.exp([2,3]))\n",
        "print(\"...\")\n",
        "print(np.min(data))\n",
        "print(np.max(data))"
      ],
      "metadata": {
        "colab": {
          "base_uri": "https://localhost:8080/"
        },
        "id": "jeV8LSf-I8tt",
        "outputId": "2146d0c1-3a84-48ca-9f5f-5982569c4cc6"
      },
      "execution_count": 15,
      "outputs": [
        {
          "output_type": "stream",
          "name": "stdout",
          "text": [
            "5.0\n",
            "...\n",
            "2\n",
            "...\n",
            "128\n",
            "...\n",
            "3.2188758248682006\n",
            "...\n",
            "[ 7.3890561  20.08553692]\n",
            "...\n",
            "0.02227507246690319\n",
            "0.9777565636621651\n"
          ]
        }
      ]
    },
    {
      "cell_type": "code",
      "source": [
        "#Adding Items to an numpy array\n",
        "arr = np.array([1,2,3,4,5,6,7,8,9,10,11,12])\n",
        "arr = np.append(arr, [13,14,15])\n",
        "print(arr)\n",
        "arr = np.insert(arr, 1, 5)\n",
        "print(arr)"
      ],
      "metadata": {
        "colab": {
          "base_uri": "https://localhost:8080/"
        },
        "id": "Uu8uHPlgMvec",
        "outputId": "52fa6abd-4f57-45c6-f850-6a663643a8a0"
      },
      "execution_count": 21,
      "outputs": [
        {
          "output_type": "stream",
          "name": "stdout",
          "text": [
            "[ 1  2  3  4  5  6  7  8  9 10 11 12 13 14 15]\n",
            "[ 1  5  2  3  4  5  6  7  8  9 10 11 12 13 14 15]\n"
          ]
        }
      ]
    },
    {
      "cell_type": "markdown",
      "source": [
        "**DELETE**"
      ],
      "metadata": {
        "id": "nVA4DWi9P-mm"
      }
    },
    {
      "cell_type": "code",
      "source": [
        "arr = np.delete(arr, 5)\n",
        "print(arr)"
      ],
      "metadata": {
        "colab": {
          "base_uri": "https://localhost:8080/"
        },
        "id": "fcEi7NiEQEWY",
        "outputId": "485592b3-f2da-43e7-b670-fe64999773f5"
      },
      "execution_count": 22,
      "outputs": [
        {
          "output_type": "stream",
          "name": "stdout",
          "text": [
            "[ 1  5  2  3  4  6  7  8  9 10 11 12 13 14 15]\n"
          ]
        }
      ]
    }
  ]
}